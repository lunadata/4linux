{
  "nbformat": 4,
  "nbformat_minor": 0,
  "metadata": {
    "colab": {
      "name": "Data Enginee - Pratical Test - [Jeova Leite].ipynb",
      "provenance": [],
      "collapsed_sections": [],
      "include_colab_link": true
    },
    "kernelspec": {
      "name": "python3",
      "display_name": "Python 3"
    }
  },
  "cells": [
    {
      "cell_type": "markdown",
      "metadata": {
        "id": "view-in-github",
        "colab_type": "text"
      },
      "source": [
        "<a href=\"https://colab.research.google.com/github/lunadata/4linux/blob/master/Data_Enginee_Pratical_Test.ipynb\" target=\"_parent\"><img src=\"https://colab.research.google.com/assets/colab-badge.svg\" alt=\"Open In Colab\"/></a>"
      ]
    },
    {
      "cell_type": "markdown",
      "metadata": {
        "id": "mpBCiP6-ZaSv",
        "colab_type": "text"
      },
      "source": [
        "# Environment setup"
      ]
    },
    {
      "cell_type": "code",
      "metadata": {
        "id": "rLFyhlyJSTvm",
        "colab_type": "code",
        "colab": {
          "base_uri": "https://localhost:8080/",
          "height": 901
        },
        "outputId": "df18cd5e-251c-40ea-f406-2735e8bb5ec2"
      },
      "source": [
        "%%bash\n",
        "\n",
        "# Instal Java\n",
        "apt-get install openjdk-8-jdk-headless -qq > /dev/null\n",
        "\n",
        "# Install PySpark\n",
        "pip install -q pyspark\n",
        "\n",
        "# Download sample data\n",
        "mkdir data\n",
        "gsutil -m cp gs://ac-sample-datasets/crypto-coin-dataset/*.json data/"
      ],
      "execution_count": 1,
      "outputs": [
        {
          "output_type": "stream",
          "text": [
            "Copying gs://ac-sample-datasets/crypto-coin-dataset/1548440742.59449.json...\n",
            "Copying gs://ac-sample-datasets/crypto-coin-dataset/1548441361.01982.json...\n",
            "Copying gs://ac-sample-datasets/crypto-coin-dataset/1548441180.884658.json...\n",
            "Copying gs://ac-sample-datasets/crypto-coin-dataset/1548441901.032941.json...\n",
            "Copying gs://ac-sample-datasets/crypto-coin-dataset/1548442261.659446.json...\n",
            "Copying gs://ac-sample-datasets/crypto-coin-dataset/1548442081.106894.json...\n",
            "Copying gs://ac-sample-datasets/crypto-coin-dataset/1548441542.420127.json...\n",
            "Copying gs://ac-sample-datasets/crypto-coin-dataset/1548442440.793133.json...\n",
            "Copying gs://ac-sample-datasets/crypto-coin-dataset/1548441721.628233.json...\n",
            "Copying gs://ac-sample-datasets/crypto-coin-dataset/1548442621.14921.json...\n",
            "Copying gs://ac-sample-datasets/crypto-coin-dataset/1548442801.581304.json...\n",
            "Copying gs://ac-sample-datasets/crypto-coin-dataset/1548442981.394722.json...\n",
            "Copying gs://ac-sample-datasets/crypto-coin-dataset/1548443160.754679.json...\n",
            "Copying gs://ac-sample-datasets/crypto-coin-dataset/1548443342.193443.json...\n",
            "Copying gs://ac-sample-datasets/crypto-coin-dataset/1548443521.647904.json...\n",
            "Copying gs://ac-sample-datasets/crypto-coin-dataset/1548443881.644386.json...\n",
            "Copying gs://ac-sample-datasets/crypto-coin-dataset/1548443701.144064.json...\n",
            "Copying gs://ac-sample-datasets/crypto-coin-dataset/1548444061.242096.json...\n",
            "Copying gs://ac-sample-datasets/crypto-coin-dataset/1548444241.486817.json...\n",
            "Copying gs://ac-sample-datasets/crypto-coin-dataset/1548444420.921387.json...\n",
            "Copying gs://ac-sample-datasets/crypto-coin-dataset/1548444600.922172.json...\n",
            "Copying gs://ac-sample-datasets/crypto-coin-dataset/1548444781.141936.json...\n",
            "Copying gs://ac-sample-datasets/crypto-coin-dataset/1548444961.408766.json...\n",
            "Copying gs://ac-sample-datasets/crypto-coin-dataset/1548445141.726085.json...\n",
            "Copying gs://ac-sample-datasets/crypto-coin-dataset/1548445320.861267.json...\n",
            "Copying gs://ac-sample-datasets/crypto-coin-dataset/1548445501.036902.json...\n",
            "Copying gs://ac-sample-datasets/crypto-coin-dataset/1548445681.30987.json...\n",
            "Copying gs://ac-sample-datasets/crypto-coin-dataset/1548445861.667923.json...\n",
            "Copying gs://ac-sample-datasets/crypto-coin-dataset/1548446041.013228.json...\n",
            "Copying gs://ac-sample-datasets/crypto-coin-dataset/1548446221.744671.json...\n",
            "Copying gs://ac-sample-datasets/crypto-coin-dataset/1548446401.045113.json...\n",
            "Copying gs://ac-sample-datasets/crypto-coin-dataset/1548446581.662233.json...\n",
            "Copying gs://ac-sample-datasets/crypto-coin-dataset/1548446761.048908.json...\n",
            "Copying gs://ac-sample-datasets/crypto-coin-dataset/1548446941.365546.json...\n",
            "Copying gs://ac-sample-datasets/crypto-coin-dataset/1548447121.649787.json...\n",
            "Copying gs://ac-sample-datasets/crypto-coin-dataset/1548447300.771092.json...\n",
            "Copying gs://ac-sample-datasets/crypto-coin-dataset/1548447480.949585.json...\n",
            "Copying gs://ac-sample-datasets/crypto-coin-dataset/1548447661.34739.json...\n",
            "Copying gs://ac-sample-datasets/crypto-coin-dataset/1548447841.661822.json...\n",
            "Copying gs://ac-sample-datasets/crypto-coin-dataset/1548448200.930406.json...\n",
            "Copying gs://ac-sample-datasets/crypto-coin-dataset/1548448020.894318.json...\n",
            "Copying gs://ac-sample-datasets/crypto-coin-dataset/1548448381.3815.json...\n",
            "Copying gs://ac-sample-datasets/crypto-coin-dataset/1548448561.76952.json...\n",
            "Copying gs://ac-sample-datasets/crypto-coin-dataset/1548448741.076622.json...\n",
            "Copying gs://ac-sample-datasets/crypto-coin-dataset/1548448921.388722.json...\n",
            "Copying gs://ac-sample-datasets/crypto-coin-dataset/1548449102.049901.json...\n",
            "Copying gs://ac-sample-datasets/crypto-coin-dataset/1548449281.370537.json...\n",
            "Copying gs://ac-sample-datasets/crypto-coin-dataset/1548449461.943398.json...\n",
            "Copying gs://ac-sample-datasets/crypto-coin-dataset/1548449641.2489.json...\n",
            "Copying gs://ac-sample-datasets/crypto-coin-dataset/1548449821.686574.json...\n",
            "/ [0/50 files][    0.0 B/277.9 KiB]   0% Done                                   \r/ [0/50 files][    0.0 B/277.9 KiB]   0% Done                                   \r/ [0/50 files][    0.0 B/277.9 KiB]   0% Done                                   \r/ [0/50 files][    0.0 B/277.9 KiB]   0% Done                                   \r/ [0/50 files][    0.0 B/277.9 KiB]   0% Done                                   \r/ [0/50 files][    0.0 B/277.9 KiB]   0% Done                                   \r/ [0/50 files][    0.0 B/277.9 KiB]   0% Done                                   \r/ [0/50 files][    0.0 B/277.9 KiB]   0% Done                                   \r/ [0/50 files][    0.0 B/277.9 KiB]   0% Done                                   \r/ [0/50 files][    0.0 B/277.9 KiB]   0% Done                                   \r/ [1/50 files][  5.6 KiB/277.9 KiB]   2% Done                                   \r/ [1/50 files][  5.6 KiB/277.9 KiB]   2% Done                                   \r-\r- [2/50 files][ 11.1 KiB/277.9 KiB]   4% Done                                   \r- [2/50 files][ 11.1 KiB/277.9 KiB]   4% Done                                   \r- [3/50 files][ 16.7 KiB/277.9 KiB]   6% Done                                   \r- [3/50 files][ 16.7 KiB/277.9 KiB]   6% Done                                   \r- [4/50 files][ 27.8 KiB/277.9 KiB]  10% Done                                   \r- [5/50 files][ 27.8 KiB/277.9 KiB]  10% Done                                   \r- [5/50 files][ 27.8 KiB/277.9 KiB]  10% Done                                   \r- [6/50 files][ 33.4 KiB/277.9 KiB]  12% Done                                   \r- [6/50 files][ 33.4 KiB/277.9 KiB]  12% Done                                   \r- [7/50 files][ 38.9 KiB/277.9 KiB]  14% Done                                   \r- [7/50 files][ 38.9 KiB/277.9 KiB]  14% Done                                   \r- [7/50 files][ 38.9 KiB/277.9 KiB]  14% Done                                   \r- [8/50 files][ 44.5 KiB/277.9 KiB]  16% Done                                   \r- [8/50 files][ 44.5 KiB/277.9 KiB]  16% Done                                   \r- [9/50 files][ 50.0 KiB/277.9 KiB]  18% Done                                   \r- [9/50 files][ 50.0 KiB/277.9 KiB]  18% Done                                   \r- [10/50 files][ 55.6 KiB/277.9 KiB]  20% Done                                  \r- [10/50 files][ 55.6 KiB/277.9 KiB]  20% Done                                  \r- [11/50 files][ 61.2 KiB/277.9 KiB]  22% Done                                  \r- [11/50 files][ 61.2 KiB/277.9 KiB]  22% Done                                  \r- [12/50 files][ 66.7 KiB/277.9 KiB]  24% Done                                  \r- [12/50 files][ 72.3 KiB/277.9 KiB]  26% Done                                  \r- [13/50 files][ 72.3 KiB/277.9 KiB]  26% Done                                  \r- [13/50 files][ 72.3 KiB/277.9 KiB]  26% Done                                  \r- [14/50 files][ 77.9 KiB/277.9 KiB]  28% Done                                  \r- [14/50 files][ 77.9 KiB/277.9 KiB]  28% Done                                  \r- [15/50 files][ 89.0 KiB/277.9 KiB]  32% Done                                  \r- [16/50 files][ 94.6 KiB/277.9 KiB]  34% Done                                  \r- [17/50 files][ 94.6 KiB/277.9 KiB]  34% Done                                  \r- [17/50 files][ 94.6 KiB/277.9 KiB]  34% Done                                  \r- [17/50 files][ 94.6 KiB/277.9 KiB]  34% Done                                  \r- [17/50 files][ 94.6 KiB/277.9 KiB]  34% Done                                  \r- [18/50 files][100.1 KiB/277.9 KiB]  36% Done                                  \r- [19/50 files][105.7 KiB/277.9 KiB]  38% Done                                  \r- [19/50 files][105.7 KiB/277.9 KiB]  38% Done                                  \r- [19/50 files][105.7 KiB/277.9 KiB]  38% Done                                  \r- [20/50 files][111.2 KiB/277.9 KiB]  40% Done                                  \r- [20/50 files][111.2 KiB/277.9 KiB]  40% Done                                  \r- [21/50 files][116.8 KiB/277.9 KiB]  42% Done                                  \r- [22/50 files][122.4 KiB/277.9 KiB]  44% Done                                  \r- [22/50 files][122.4 KiB/277.9 KiB]  44% Done                                  \r- [22/50 files][122.4 KiB/277.9 KiB]  44% Done                                  \r- [23/50 files][127.9 KiB/277.9 KiB]  46% Done                                  \r- [23/50 files][127.9 KiB/277.9 KiB]  46% Done                                  \r- [24/50 files][133.5 KiB/277.9 KiB]  48% Done                                  \r- [24/50 files][133.5 KiB/277.9 KiB]  48% Done                                  \r- [25/50 files][139.0 KiB/277.9 KiB]  50% Done                                  \r- [26/50 files][144.6 KiB/277.9 KiB]  52% Done                                  \r- [26/50 files][144.6 KiB/277.9 KiB]  52% Done                                  \r- [26/50 files][144.6 KiB/277.9 KiB]  52% Done                                  \r- [27/50 files][155.7 KiB/277.9 KiB]  56% Done                                  \r- [28/50 files][161.2 KiB/277.9 KiB]  58% Done                                  \r- [29/50 files][161.2 KiB/277.9 KiB]  58% Done                                  \r- [29/50 files][161.2 KiB/277.9 KiB]  58% Done                                  \r- [29/50 files][161.2 KiB/277.9 KiB]  58% Done                                  \r- [29/50 files][161.2 KiB/277.9 KiB]  58% Done                                  \r- [30/50 files][172.4 KiB/277.9 KiB]  62% Done                                  \r- [31/50 files][172.4 KiB/277.9 KiB]  62% Done                                  \r- [31/50 files][172.4 KiB/277.9 KiB]  62% Done                                  \r- [31/50 files][172.4 KiB/277.9 KiB]  62% Done                                  \r- [32/50 files][177.9 KiB/277.9 KiB]  64% Done                                  \r- [32/50 files][177.9 KiB/277.9 KiB]  64% Done                                  \r\\\r\\ [33/50 files][183.5 KiB/277.9 KiB]  66% Done                                  \r\\ [33/50 files][183.5 KiB/277.9 KiB]  66% Done                                  \r\\ [34/50 files][189.0 KiB/277.9 KiB]  68% Done                                  \r\\ [35/50 files][194.6 KiB/277.9 KiB]  70% Done                                  \r\\ [35/50 files][194.6 KiB/277.9 KiB]  70% Done                                  \r\\ [35/50 files][194.6 KiB/277.9 KiB]  70% Done                                  \r\\ [36/50 files][200.1 KiB/277.9 KiB]  72% Done                                  \r\\ [36/50 files][200.1 KiB/277.9 KiB]  72% Done                                  \r\\ [37/50 files][205.7 KiB/277.9 KiB]  74% Done                                  \r\\ [37/50 files][205.7 KiB/277.9 KiB]  74% Done                                  \r\\ [38/50 files][211.3 KiB/277.9 KiB]  76% Done                                  \r\\ [38/50 files][211.3 KiB/277.9 KiB]  76% Done                                  \r\\ [39/50 files][216.8 KiB/277.9 KiB]  78% Done                                  \r\\ [39/50 files][216.8 KiB/277.9 KiB]  78% Done                                  \r\\ [40/50 files][227.9 KiB/277.9 KiB]  82% Done                                  \r\\ [41/50 files][233.5 KiB/277.9 KiB]  84% Done                                  \r\\ [42/50 files][233.5 KiB/277.9 KiB]  84% Done                                  \r\\ [43/50 files][239.0 KiB/277.9 KiB]  86% Done                                  \r\\ [43/50 files][239.0 KiB/277.9 KiB]  86% Done                                  \r\\ [44/50 files][244.6 KiB/277.9 KiB]  88% Done                                  \r\\ [45/50 files][250.2 KiB/277.9 KiB]  90% Done                                  \r\\ [46/50 files][255.7 KiB/277.9 KiB]  92% Done                                  \r\\ [47/50 files][261.2 KiB/277.9 KiB]  94% Done                                  \r\\ [48/50 files][266.8 KiB/277.9 KiB]  96% Done                                  \r\\ [49/50 files][272.4 KiB/277.9 KiB]  97% Done                                  \r\\ [50/50 files][277.9 KiB/277.9 KiB] 100% Done                                  \r\n",
            "Operation completed over 50 objects/277.9 KiB.                                   \n"
          ],
          "name": "stderr"
        }
      ]
    },
    {
      "cell_type": "code",
      "metadata": {
        "id": "lhhmnR6vZpYJ",
        "colab_type": "code",
        "colab": {}
      },
      "source": [
        "import os\n",
        "os.environ['JAVA_HOME'] = '/usr/lib/jvm/java-8-openjdk-amd64'"
      ],
      "execution_count": 2,
      "outputs": []
    },
    {
      "cell_type": "code",
      "metadata": {
        "id": "9MNVgZCYaYo-",
        "colab_type": "code",
        "colab": {}
      },
      "source": [
        "from pyspark.sql import SparkSession"
      ],
      "execution_count": 3,
      "outputs": []
    },
    {
      "cell_type": "code",
      "metadata": {
        "id": "Lr2DMEGodsYg",
        "colab_type": "code",
        "colab": {
          "base_uri": "https://localhost:8080/",
          "height": 207
        },
        "outputId": "0f366668-3707-4104-ed0b-fcb266d00c0c"
      },
      "source": [
        "! head data/1548449821.686574.json"
      ],
      "execution_count": 4,
      "outputs": [
        {
          "output_type": "stream",
          "text": [
            "{\"id\": 1, \"name\": \"Bitcoin\", \"symbol\": \"BTC\", \"website_slug\": \"bitcoin\", \"rank\": 1, \"circulating_supply\": 17501150.0, \"total_supply\": 17501150.0, \"max_supply\": 21000000.0, \"quotes\": {\"USD\": {\"price\": 3588.59542942, \"volume_24h\": 5294939447.96689, \"market_cap\": 62804546900.0, \"percent_change_1h\": 0.13, \"percent_change_24h\": -0.56, \"percent_change_7d\": -1.81}, \"EUR\": {\"price\": 3143.5737102176, \"volume_24h\": 4638314007.024519, \"market_cap\": 55016155039.0, \"percent_change_1h\": 0.13, \"percent_change_24h\": -0.56, \"percent_change_7d\": -1.81}}, \"last_updated\": 1548449787}\n",
            "{\"id\": 52, \"name\": \"XRP\", \"symbol\": \"XRP\", \"website_slug\": \"ripple\", \"rank\": 2, \"circulating_supply\": 41040405095.0, \"total_supply\": 99991724864.0, \"max_supply\": 100000000000.0, \"quotes\": {\"USD\": {\"price\": 0.3148331374, \"volume_24h\": 359281584.045204, \"market_cap\": 12920879498.0, \"percent_change_1h\": -0.22, \"percent_change_24h\": -1.12, \"percent_change_7d\": -3.0}, \"EUR\": {\"price\": 0.2757906801, \"volume_24h\": 314727074.8077584, \"market_cap\": 11318561231.0, \"percent_change_1h\": -0.22, \"percent_change_24h\": -1.12, \"percent_change_7d\": -3.0}}, \"last_updated\": 1548449761}\n",
            "{\"id\": 1027, \"name\": \"Ethereum\", \"symbol\": \"ETH\", \"website_slug\": \"ethereum\", \"rank\": 3, \"circulating_supply\": 104561437.0, \"total_supply\": 104561437.0, \"max_supply\": null, \"quotes\": {\"USD\": {\"price\": 116.012330533, \"volume_24h\": 2608394995.68641, \"market_cap\": 12130416041.0, \"percent_change_1h\": 0.0, \"percent_change_24h\": -1.37, \"percent_change_7d\": -4.38}, \"EUR\": {\"price\": 101.6256414236, \"volume_24h\": 2284927932.2713394, \"market_cap\": 10626123148.0, \"percent_change_1h\": 0.0, \"percent_change_24h\": -1.37, \"percent_change_7d\": -4.38}}, \"last_updated\": 1548449778}\n",
            "{\"id\": 1831, \"name\": \"Bitcoin Cash\", \"symbol\": \"BCH\", \"website_slug\": \"bitcoin-cash\", \"rank\": 4, \"circulating_supply\": 17586025.0, \"total_supply\": 17586025.0, \"max_supply\": 21000000.0, \"quotes\": {\"USD\": {\"price\": 127.075290834, \"volume_24h\": 199935785.444105, \"market_cap\": 2234749241.0, \"percent_change_1h\": 0.05, \"percent_change_24h\": -1.99, \"percent_change_7d\": -0.87}, \"EUR\": {\"price\": 111.3166840177, \"volume_24h\": 175141748.69118163, \"market_cap\": 1957617988.0, \"percent_change_1h\": 0.05, \"percent_change_24h\": -1.99, \"percent_change_7d\": -0.87}}, \"last_updated\": 1548449763}\n",
            "{\"id\": 1765, \"name\": \"EOS\", \"symbol\": \"EOS\", \"website_slug\": \"eos\", \"rank\": 5, \"circulating_supply\": 906245118.0, \"total_supply\": 1006245120.0, \"max_supply\": null, \"quotes\": {\"USD\": {\"price\": 2.4417667625, \"volume_24h\": 626383223.768374, \"market_cap\": 2212839207.0, \"percent_change_1h\": 0.23, \"percent_change_24h\": -0.54, \"percent_change_7d\": -0.52}, \"EUR\": {\"price\": 2.1389632663, \"volume_24h\": 548705440.1888583, \"market_cap\": 1938425017.0, \"percent_change_1h\": 0.23, \"percent_change_24h\": -0.54, \"percent_change_7d\": -0.52}}, \"last_updated\": 1548449764}\n",
            "{\"id\": 825, \"name\": \"Tether\", \"symbol\": \"USDT\", \"website_slug\": \"tether\", \"rank\": 6, \"circulating_supply\": 2017251167.0, \"total_supply\": 2580057493.0, \"max_supply\": null, \"quotes\": {\"USD\": {\"price\": 1.0093177594, \"volume_24h\": 3653773292.19554, \"market_cap\": 2036047428.0, \"percent_change_1h\": 0.0, \"percent_change_24h\": -0.09, \"percent_change_7d\": -0.65}, \"EUR\": {\"price\": 0.884152264, \"volume_24h\": 3200668866.230373, \"market_cap\": 1783557186.0, \"percent_change_1h\": 0.0, \"percent_change_24h\": -0.09, \"percent_change_7d\": -0.65}}, \"last_updated\": 1548449766}\n",
            "{\"id\": 2, \"name\": \"Litecoin\", \"symbol\": \"LTC\", \"website_slug\": \"litecoin\", \"rank\": 7, \"circulating_supply\": 60178625.0, \"total_supply\": 60178625.0, \"max_supply\": 84000000.0, \"quotes\": {\"USD\": {\"price\": 32.40450266, \"volume_24h\": 635732020.259009, \"market_cap\": 1950058419.0, \"percent_change_1h\": 0.23, \"percent_change_24h\": -1.4, \"percent_change_7d\": 3.47}, \"EUR\": {\"price\": 28.3860202851, \"volume_24h\": 556894892.4266896, \"market_cap\": 1708231674.0, \"percent_change_1h\": 0.23, \"percent_change_24h\": -1.4, \"percent_change_7d\": 3.47}}, \"last_updated\": 1548449766}\n",
            "{\"id\": 512, \"name\": \"Stellar\", \"symbol\": \"XLM\", \"website_slug\": \"stellar\", \"rank\": 8, \"circulating_supply\": 19166823582.0, \"total_supply\": 104662581680.0, \"max_supply\": null, \"quotes\": {\"USD\": {\"price\": 0.1010944811, \"volume_24h\": 102906596.806836, \"market_cap\": 1937660084.0, \"percent_change_1h\": 0.2, \"percent_change_24h\": -1.02, \"percent_change_7d\": -5.23}, \"EUR\": {\"price\": 0.0885577545, \"volume_24h\": 90145149.73682031, \"market_cap\": 1697370857.0, \"percent_change_1h\": 0.2, \"percent_change_24h\": -1.02, \"percent_change_7d\": -5.23}}, \"last_updated\": 1548449762}\n",
            "{\"id\": 1958, \"name\": \"TRON\", \"symbol\": \"TRX\", \"website_slug\": \"tron\", \"rank\": 9, \"circulating_supply\": 66658613371.0, \"total_supply\": 99257825026.0, \"max_supply\": null, \"quotes\": {\"USD\": {\"price\": 0.0268362592, \"volume_24h\": 203501544.306153, \"market_cap\": 1788867828.0, \"percent_change_1h\": 0.31, \"percent_change_24h\": -0.6, \"percent_change_7d\": 7.9}, \"EUR\": {\"price\": 0.0235082947, \"volume_24h\": 178265317.79674706, \"market_cap\": 1567030329.0, \"percent_change_1h\": 0.31, \"percent_change_24h\": -0.6, \"percent_change_7d\": 7.9}}, \"last_updated\": 1548449763}\n",
            "{\"id\": 3602, \"name\": \"Bitcoin SV\", \"symbol\": \"BSV\", \"website_slug\": \"bitcoin-sv\", \"rank\": 10, \"circulating_supply\": 17585048.0, \"total_supply\": 17585048.0, \"max_supply\": 21000000.0, \"quotes\": {\"USD\": {\"price\": 74.725264477, \"volume_24h\": 60984786.717557, \"market_cap\": 1314047395.0, \"percent_change_1h\": -0.5, \"percent_change_24h\": -0.06, \"percent_change_7d\": -1.71}, \"EUR\": {\"price\": 65.4585844292, \"volume_24h\": 53422063.31671278, \"market_cap\": 1151092378.0, \"percent_change_1h\": -0.5, \"percent_change_24h\": -0.06, \"percent_change_7d\": -1.71}}, \"last_updated\": 1548449768}\n"
          ],
          "name": "stdout"
        }
      ]
    },
    {
      "cell_type": "code",
      "metadata": {
        "id": "P11a663GdT46",
        "colab_type": "code",
        "colab": {
          "base_uri": "https://localhost:8080/",
          "height": 459
        },
        "outputId": "eea2c29d-d312-47d8-9433-bc4541987d0e"
      },
      "source": [
        "spark = SparkSession.builder.master(\"local[*]\").getOrCreate()\n",
        "my_data_frame = spark.read.json('data/*.json')\n",
        "my_data_frame.show()"
      ],
      "execution_count": 5,
      "outputs": [
        {
          "output_type": "stream",
          "text": [
            "+------------------+----+------------+----------+------------+--------------------+----+------+---------------+------------+\n",
            "|circulating_supply|  id|last_updated|max_supply|        name|              quotes|rank|symbol|   total_supply|website_slug|\n",
            "+------------------+----+------------+----------+------------+--------------------+----+------+---------------+------------+\n",
            "|       1.7501025E7|   1|  1548442402|     2.1E7|     Bitcoin|[[5.4984211967E10...|   1|   BTC|    1.7501025E7|     bitcoin|\n",
            "|   4.1040405095E10|  52|  1548442383|    1.0E11|         XRP|[[1.1313948901E10...|   2|   XRP|9.9991724864E10|      ripple|\n",
            "|      1.04559909E8|1027|  1548442398|      null|    Ethereum|[[1.0639997727E10...|   3|   ETH|   1.04559909E8|    ethereum|\n",
            "|       1.7585925E7|1831|  1548442383|     2.1E7|Bitcoin Cash|[[1.961304733E9, ...|   4|   BCH|    1.7585925E7|bitcoin-cash|\n",
            "|      9.06245118E8|1765|  1548442383|      null|         EOS|[[1.938628218E9, ...|   5|   EOS|   1.00624512E9|         eos|\n",
            "|     2.017251167E9| 825|  1548442388|      null|      Tether|[[1.783005694E9, ...|   6|  USDT|  2.580057493E9|      tether|\n",
            "|       6.0177275E7|   2|  1548442384|     8.4E7|    Litecoin|[[1.709010146E9, ...|   7|   LTC|    6.0177275E7|    litecoin|\n",
            "|   1.9166823582E10| 512|  1548442382|      null|     Stellar|[[1.689850897E9, ...|   8|   XLM|1.0466258168E11|     stellar|\n",
            "|     6.66585234E10|1958|  1548442383|      null|        TRON|[[1.56209467E9, -...|   9|   TRX|9.9257735055E10|        tron|\n",
            "|       1.7584898E7|3602|  1548442388|     2.1E7|  Bitcoin SV|[[1.153723511E9, ...|  10|   BSV|    1.7584898E7|  bitcoin-sv|\n",
            "|       1.7501087E7|   1|  1548447987|     2.1E7|     Bitcoin|[[5.4877753167E10...|   1|   BTC|    1.7501087E7|     bitcoin|\n",
            "|   4.1040405095E10|  52|  1548447961|    1.0E11|         XRP|[[1.134165001E10,...|   2|   XRP|9.9991724864E10|      ripple|\n",
            "|      1.04560961E8|1027|  1548447976|      null|    Ethereum|[[1.0607150635E10...|   3|   ETH|   1.04560961E8|    ethereum|\n",
            "|       1.7586025E7|1831|  1548447964|     2.1E7|Bitcoin Cash|[[1.953019092E9, ...|   4|   BCH|    1.7586025E7|bitcoin-cash|\n",
            "|      9.06245118E8|1765|  1548447964|      null|         EOS|[[1.930444345E9, ...|   5|   EOS|   1.00624512E9|         eos|\n",
            "|     2.017251167E9| 825|  1548447966|      null|      Tether|[[1.781484882E9, ...|   6|  USDT|  2.580057493E9|      tether|\n",
            "|         6.01782E7|   2|  1548447965|     8.4E7|    Litecoin|[[1.700686205E9, ...|   7|   LTC|      6.01782E7|    litecoin|\n",
            "|   1.9166823582E10| 512|  1548447961|      null|     Stellar|[[1.691485389E9, ...|   8|   XLM|1.0466258168E11|     stellar|\n",
            "|    6.665860054E10|1958|  1548447964|      null|        TRON|[[1.559733853E9, ...|   9|   TRX|9.9257812196E10|        tron|\n",
            "|       1.7585023E7|3602|  1548447969|     2.1E7|  Bitcoin SV|[[1.153659738E9, ...|  10|   BSV|    1.7585023E7|  bitcoin-sv|\n",
            "+------------------+----+------------+----------+------------+--------------------+----+------+---------------+------------+\n",
            "only showing top 20 rows\n",
            "\n"
          ],
          "name": "stdout"
        }
      ]
    },
    {
      "cell_type": "markdown",
      "metadata": {
        "id": "TWhDXIY81Hz7",
        "colab_type": "text"
      },
      "source": [
        ""
      ]
    },
    {
      "cell_type": "markdown",
      "metadata": {
        "id": "qvAwjtUadzZL",
        "colab_type": "text"
      },
      "source": [
        "# **Test 1**\n",
        "Given the data structure above. Create a dataframe instance which has the following fields and formats:\n",
        "- **id**: same as id from the original dataframe\n",
        "- **supply**: circulating_supply value\n",
        "- **price**: Price in USD, rounded to the second decimal place, e.g.: 3583.0830755 -> 3583.08\n",
        "\n",
        "**Tips:** \n",
        "- We only imported pyspark.sql.SparkSession, if you need something else from the pyspark API you might need to import it yourself.\n",
        "-"
      ]
    },
    {
      "cell_type": "code",
      "metadata": {
        "id": "mPqkPqu58nzM",
        "colab_type": "code",
        "colab": {}
      },
      "source": [
        "# Write your code for Test 1 here\n"
      ],
      "execution_count": 6,
      "outputs": []
    },
    {
      "cell_type": "markdown",
      "metadata": {
        "id": "ryZlN1tRvzwp",
        "colab_type": "text"
      },
      "source": [
        "# **Test 2**\n",
        "Add to the dataframe a column named \"filename\" containing the original filenames from which the information was read.\n",
        "\n",
        "**tip**: Spark has a builtin function to capture source file names"
      ]
    },
    {
      "cell_type": "code",
      "metadata": {
        "id": "f_E_Gu7R80O7",
        "colab_type": "code",
        "colab": {}
      },
      "source": [
        "#Write your code for Test 2 here\n"
      ],
      "execution_count": 7,
      "outputs": []
    },
    {
      "cell_type": "markdown",
      "metadata": {
        "id": "wIaxnLhavaTN",
        "colab_type": "text"
      },
      "source": [
        "# **Test 3**\n",
        "Based on the column created on the last step (**filename**) create another one containing the date for that event in a human readable format, e.g.: ***yyyy-mm-ddThh:mm:ss.ffffff*** or **2019-01-25 19:06:00**\n",
        "\n",
        "**Tip**: If you decide to use regex to extract the unix timestamp from the filename, you can use the regular expression below to do so:  \n",
        "\n",
        "```\n",
        ".*/(.*).json\n",
        "```"
      ]
    },
    {
      "cell_type": "code",
      "metadata": {
        "id": "dN3RYg751wn9",
        "colab_type": "code",
        "colab": {}
      },
      "source": [
        "# Write your code for Test 3 here\n"
      ],
      "execution_count": 8,
      "outputs": []
    },
    {
      "cell_type": "markdown",
      "metadata": {
        "id": "qHl3D48y3qeV",
        "colab_type": "text"
      },
      "source": [
        "# **Test 4**\n",
        "Save the newly created dataframe on a **parquet** file, then read the file you just saved and show the contents of it."
      ]
    },
    {
      "cell_type": "code",
      "metadata": {
        "id": "F1xfMuo74g6n",
        "colab_type": "code",
        "colab": {}
      },
      "source": [
        "# Write your code for Test 4 here\n"
      ],
      "execution_count": 9,
      "outputs": []
    },
    {
      "cell_type": "markdown",
      "metadata": {
        "id": "0PxOiiMK94JK",
        "colab_type": "text"
      },
      "source": [
        "# **Test 5**\n",
        "Register the original DataFrame as a temporary view and run a SQL query to generate a new DataFrame with the following columns:\n",
        "\n",
        "- symbol: the crypto currency symbol, as in the original symbol column\n",
        "- price_sum: the sum of all USD prices for each crypto currency\n",
        "\n",
        "You should order the result set by the price_sum column and only display those summations that exceeds USD 5000."
      ]
    },
    {
      "cell_type": "code",
      "metadata": {
        "id": "aJ0IXmENxKid",
        "colab_type": "code",
        "colab": {}
      },
      "source": [
        "# Write your code for Test 5 here\n"
      ],
      "execution_count": 10,
      "outputs": []
    },
    {
      "cell_type": "markdown",
      "metadata": {
        "id": "rWPd5IEGAd9X",
        "colab_type": "text"
      },
      "source": [
        "# **Test 6**\n",
        "Register the original DataFrame as a temporary view and run a SQL query to generate a new DataFrame with the top three USD prices for each crypto currency. It should has the following columns:\n",
        "\n",
        "- symbol: the crypto currency symbol, as in the original symbol column\n",
        "- price: USD price of that crypto currency"
      ]
    },
    {
      "cell_type": "code",
      "metadata": {
        "id": "wmbI9C7J6Uwk",
        "colab_type": "code",
        "colab": {}
      },
      "source": [
        "# Write your code for Test 6 here\n"
      ],
      "execution_count": 11,
      "outputs": []
    }
  ]
}